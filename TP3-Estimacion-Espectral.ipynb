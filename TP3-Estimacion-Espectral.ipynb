{
 "cells": [
  {
   "cell_type": "markdown",
   "metadata": {},
   "source": [
    "## <img src=\"./logo_UTN.svg\" align=\"right\" width=\"150\" /> \n",
    "#### Procesamiento Digital de Señales\n",
    "\n",
    "# Trabajo Práctico 3\n",
    "#### Nombre y Apellido\n",
    "\n",
    "***\n",
    "## Estimación espectral\n"
   ]
  },
  {
   "cell_type": "code",
   "execution_count": 1,
   "metadata": {
    "code_folding": []
   },
   "outputs": [],
   "source": [
    "## Inicialización del Notebook del TP3\n",
    "\n",
    "import numpy as np\n",
    "import matplotlib as mpl\n",
    "import matplotlib.pyplot as plt\n",
    "from pandas import DataFrame\n",
    "from IPython.display import HTML\n",
    "\n",
    "fs = 1000 # Hz\n",
    "\n",
    "# Insertar aquí el código para inicializar tu notebook\n",
    "########################################################\n",
    "from Funciones import *\n",
    "from math import log10, floor\n",
    "def round_sig(x, sig=2):\n",
    "    return round(x, sig-int(floor(log10(abs(x))))-1)"
   ]
  },
  {
   "cell_type": "markdown",
   "metadata": {},
   "source": [
    "<div class=\"alert alert-block alert-info\">\n",
    "<b>1)</b> Compruebe experimentalmente las propiedades de sesgo y varianza del periodograma.\n",
    "</div>"
   ]
  },
  {
   "cell_type": "markdown",
   "metadata": {},
   "source": [
    "<div class=\"alert alert-block alert-success\">\n",
    "<b>Ayuda:</b> Puede utilizar una señal aleatoria con valores normalmente distribuidos de media nula y varianza **NO** unitaria, es decir $ x \\sim \\mathcal{N}(\\mu=0,\\sigma^2=2)$\n",
    "\n",
    "</div>"
   ]
  },
  {
   "cell_type": "markdown",
   "metadata": {},
   "source": [
    "Es decir, que el periodograma es un estimador de la densidad de potencia espectral (Ver Hayes 8.2.2):\n",
    "\n",
    "$$ \\hat{P_P}(e^{\\frac{2\\pi·k·f_S}{N}}) = \\hat{P_P}(k) = \\frac{1}{N}· \\lvert X(k) \\rvert ^2  $$\n",
    "\n",
    " + **no sesgado asintóticamente** a medida que aumenta la ventana de registro N.\n",
    " + tiene varianza constante y **NO** depende de N."
   ]
  },
  {
   "cell_type": "code",
   "execution_count": 2,
   "metadata": {},
   "outputs": [
    {
     "data": {
      "image/png": "[encoded data removed]",
      "text/plain": [
       "<Figure size 432x288 with 1 Axes>"
      ]
     },
     "metadata": {},
     "output_type": "display_data"
    },
    {
     "data": {
      "image/png": "[encoded data removed]",
      "text/plain": [
       "<Figure size 432x288 with 1 Axes>"
      ]
     },
     "metadata": {},
     "output_type": "display_data"
    }
   ],
   "source": [
    "rep = 200\n",
    "N = np.array([10, 50, 100, 250, 500, 1000, 5000], dtype=int)\n",
    "mu = 0\n",
    "sigma2 = 2\n",
    "\n",
    "sesgo = np.zeros(len(N))\n",
    "varianza = np.zeros(len(N))\n",
    "\n",
    "for j in range(len(N)):\n",
    "    noise = np.random.normal(mu, np.sqrt(sigma2), (rep,N[j])) #Realizaciones\n",
    "\n",
    "    PSDx = (abs(np.fft.fft(noise,axis=1))**2)/N[j]\n",
    "    PSDp = np.mean(PSDx,axis=0)\n",
    "    PSDvar = np.var(PSDx,axis=0)\n",
    "    varianza[j] = np.mean(PSDvar,axis=0)\n",
    "    var = 0\n",
    "    for i in range(N[j]):\n",
    "        var += PSDp[i]**2\n",
    "    var /= N[j]\n",
    "    sesgo[j] = sigma2-var**0.5\n",
    "\n",
    "PrintArb(N,sesgo,'Número de muestras','sesgo','Variación del sesgo a medida que aumentan las muestras')\n",
    "PrintArb(N,varianza,'Número de muestras','varianza','Variación de la varianza a medida que aumentan las muestras')\n"
   ]
  },
  {
   "cell_type": "code",
   "execution_count": 3,
   "metadata": {
    "scrolled": false
   },
   "outputs": [
    {
     "data": {
      "text/html": [
       "<table border=\"1\" class=\"dataframe\">\n",
       "  <thead>\n",
       "    <tr style=\"text-align: right;\">\n",
       "      <th></th>\n",
       "      <th>$s_P$</th>\n",
       "      <th>$v_P$</th>\n",
       "    </tr>\n",
       "  </thead>\n",
       "  <tbody>\n",
       "    <tr>\n",
       "      <th>10</th>\n",
       "      <td>0.05870</td>\n",
       "      <td>4.258</td>\n",
       "    </tr>\n",
       "    <tr>\n",
       "      <th>50</th>\n",
       "      <td>0.06650</td>\n",
       "      <td>3.907</td>\n",
       "    </tr>\n",
       "    <tr>\n",
       "      <th>100</th>\n",
       "      <td>-0.02380</td>\n",
       "      <td>4.056</td>\n",
       "    </tr>\n",
       "    <tr>\n",
       "      <th>250</th>\n",
       "      <td>-0.02500</td>\n",
       "      <td>3.993</td>\n",
       "    </tr>\n",
       "    <tr>\n",
       "      <th>500</th>\n",
       "      <td>-0.01270</td>\n",
       "      <td>3.964</td>\n",
       "    </tr>\n",
       "    <tr>\n",
       "      <th>1000</th>\n",
       "      <td>-0.00465</td>\n",
       "      <td>4.005</td>\n",
       "    </tr>\n",
       "    <tr>\n",
       "      <th>5000</th>\n",
       "      <td>-0.00154</td>\n",
       "      <td>3.960</td>\n",
       "    </tr>\n",
       "  </tbody>\n",
       "</table>"
      ],
      "text/plain": [
       "<IPython.core.display.HTML object>"
      ]
     },
     "execution_count": 3,
     "metadata": {},
     "output_type": "execute_result"
    }
   ],
   "source": [
    "tus_resultados = [ \n",
    "                   [round_sig(sesgo[0],3), round_sig(varianza[0],4)], # <-- acá debería haber numeritos :)\n",
    "                   [round_sig(sesgo[1],3), round_sig(varianza[1],4)], # <-- acá debería haber numeritos :)\n",
    "                   [round_sig(sesgo[2],3), round_sig(varianza[2],4)], # <-- acá debería haber numeritos :)\n",
    "                   [round_sig(sesgo[3],3), round_sig(varianza[3],4)], # <-- acá debería haber numeritos :)\n",
    "                   [round_sig(sesgo[4],3), round_sig(varianza[4],4)], # <-- acá debería haber numeritos :)\n",
    "                   [round_sig(sesgo[5],3), round_sig(varianza[5],4)], # <-- acá debería haber numeritos :)\n",
    "                   [round_sig(sesgo[6],3), round_sig(varianza[6],4)], # <-- acá debería haber numeritos :)\n",
    "                 ]\n",
    "df = DataFrame(tus_resultados, columns=['$s_P$', '$v_P$'],\n",
    "               index=N)\n",
    "HTML(df.to_html())\n"
   ]
  },
  {
   "cell_type": "markdown",
   "metadata": {},
   "source": [
    "<div class=\"alert alert-block alert-info\">\n",
    "<b>2)</b>     Compruebe del mismo modo los resultados de sesgo y varianza vistos en la teoría del método de Bartlett.\n",
    "\n",
    "</div>"
   ]
  },
  {
   "cell_type": "markdown",
   "metadata": {},
   "source": [
    "Es decir, que el periodograma de Bartlett es un estimador de la densidad de potencia espectral que promedia K bloques disjuntos de las N muestras de una señal $x$ (Ver Hayes 8.2.4):\n",
    "\n",
    "$$ \\hat{P_B}(k) = \\frac{1}{N}· \\sum^{K-1}_{i=0} \\lvert X(k) \\rvert ^2  $$\n",
    "\n",
    " + **no sesgado asintóticamente** a medida que aumenta la ventana de registro N.\n",
    " + tiene varianza que decrece asintóticamente a medida que aumenta K.\n",
    " + tiene una resolución espectral K veces menor"
   ]
  },
  {
   "cell_type": "code",
   "execution_count": 4,
   "metadata": {},
   "outputs": [],
   "source": [
    "# Simular para los siguientes tamaños de señal\n",
    "N = np.array([10, 50, 100, 250, 500, 1000, 5000], dtype=np.float)\n",
    "\n",
    "##########################################\n",
    "# Acá podés generar los gráficos pedidos #\n",
    "##########################################\n"
   ]
  },
  {
   "cell_type": "code",
   "execution_count": 5,
   "metadata": {
    "scrolled": false
   },
   "outputs": [
    {
     "data": {
      "text/html": [
       "<table border=\"1\" class=\"dataframe\">\n",
       "  <thead>\n",
       "    <tr style=\"text-align: right;\">\n",
       "      <th></th>\n",
       "      <th>$s_B$</th>\n",
       "      <th>$v_B$</th>\n",
       "    </tr>\n",
       "  </thead>\n",
       "  <tbody>\n",
       "    <tr>\n",
       "      <th>10.0</th>\n",
       "      <td></td>\n",
       "      <td></td>\n",
       "    </tr>\n",
       "    <tr>\n",
       "      <th>50.0</th>\n",
       "      <td></td>\n",
       "      <td></td>\n",
       "    </tr>\n",
       "    <tr>\n",
       "      <th>100.0</th>\n",
       "      <td></td>\n",
       "      <td></td>\n",
       "    </tr>\n",
       "    <tr>\n",
       "      <th>250.0</th>\n",
       "      <td></td>\n",
       "      <td></td>\n",
       "    </tr>\n",
       "    <tr>\n",
       "      <th>500.0</th>\n",
       "      <td></td>\n",
       "      <td></td>\n",
       "    </tr>\n",
       "    <tr>\n",
       "      <th>1000.0</th>\n",
       "      <td></td>\n",
       "      <td></td>\n",
       "    </tr>\n",
       "    <tr>\n",
       "      <th>5000.0</th>\n",
       "      <td></td>\n",
       "      <td></td>\n",
       "    </tr>\n",
       "  </tbody>\n",
       "</table>"
      ],
      "text/plain": [
       "<IPython.core.display.HTML object>"
      ]
     },
     "execution_count": 5,
     "metadata": {},
     "output_type": "execute_result"
    }
   ],
   "source": [
    "\n",
    "#######################################\n",
    "# Tu simulación que genere resultados #\n",
    "#######################################\n",
    "\n",
    "tus_resultados = [ \n",
    "                   ['', ''], # <-- acá debería haber numeritos :)\n",
    "                   ['', ''], # <-- acá debería haber numeritos :)\n",
    "                   ['', ''], # <-- acá debería haber numeritos :)\n",
    "                   ['', ''], # <-- acá debería haber numeritos :)\n",
    "                   ['', ''], # <-- acá debería haber numeritos :)\n",
    "                   ['', ''], # <-- acá debería haber numeritos :)\n",
    "                   ['', ''], # <-- acá debería haber numeritos :)\n",
    "                 ]\n",
    "df = DataFrame(tus_resultados, columns=['$s_B$', '$v_B$'],\n",
    "               index=N)\n",
    "HTML(df.to_html())\n"
   ]
  },
  {
   "cell_type": "markdown",
   "metadata": {},
   "source": [
    "<div class=\"alert alert-block alert-info\">\n",
    "<b>3)</b>     Compruebe del mismo modo los resultados de sesgo y varianza vistos en la teoría del método de Welch.\n",
    "\n",
    "</div>"
   ]
  },
  {
   "cell_type": "markdown",
   "metadata": {},
   "source": [
    "Es decir, que el periodograma de Welch es un estimador de la densidad de potencia espectral que promedia K bloques ventaneados por $w(n)$, posiblemente solapados de las N muestras de una señal $x$ (Ver Hayes 8.2.5):\n",
    "\n",
    "$$ \\hat{P_W}(k) = \\frac{1}{K·L·U}· \\sum^{K-1}_{i=0} \\Bigg\\vert \\sum^{L-1}_{n=0}  x(n+i·D) · w(n) · e^{-j2\\pi·k·n·\\frac{f_S}{N}} \\Bigg\\vert^2   $$\n",
    "\n",
    " + **no sesgado asintóticamente** a medida que aumenta la ventana de registro N.\n",
    " + tiene varianza que decrece asintóticamente, a medida que se promedian más bloques de señal.\n",
    " + tiene una resolución espectral inversamente proporcional al tamaño del bloque."
   ]
  },
  {
   "cell_type": "code",
   "execution_count": 6,
   "metadata": {},
   "outputs": [],
   "source": [
    "# Simular para los siguientes tamaños de señal\n",
    "N = np.array([10, 50, 100, 250, 500, 1000, 5000], dtype=np.float)\n",
    "\n",
    "##########################################\n",
    "# Acá podés generar los gráficos pedidos #\n",
    "##########################################\n"
   ]
  },
  {
   "cell_type": "code",
   "execution_count": 7,
   "metadata": {
    "scrolled": false
   },
   "outputs": [
    {
     "data": {
      "text/html": [
       "<table border=\"1\" class=\"dataframe\">\n",
       "  <thead>\n",
       "    <tr style=\"text-align: right;\">\n",
       "      <th></th>\n",
       "      <th>$s_W$</th>\n",
       "      <th>$v_W$</th>\n",
       "    </tr>\n",
       "  </thead>\n",
       "  <tbody>\n",
       "    <tr>\n",
       "      <th>10.0</th>\n",
       "      <td></td>\n",
       "      <td></td>\n",
       "    </tr>\n",
       "    <tr>\n",
       "      <th>50.0</th>\n",
       "      <td></td>\n",
       "      <td></td>\n",
       "    </tr>\n",
       "    <tr>\n",
       "      <th>100.0</th>\n",
       "      <td></td>\n",
       "      <td></td>\n",
       "    </tr>\n",
       "    <tr>\n",
       "      <th>250.0</th>\n",
       "      <td></td>\n",
       "      <td></td>\n",
       "    </tr>\n",
       "    <tr>\n",
       "      <th>500.0</th>\n",
       "      <td></td>\n",
       "      <td></td>\n",
       "    </tr>\n",
       "    <tr>\n",
       "      <th>1000.0</th>\n",
       "      <td></td>\n",
       "      <td></td>\n",
       "    </tr>\n",
       "    <tr>\n",
       "      <th>5000.0</th>\n",
       "      <td></td>\n",
       "      <td></td>\n",
       "    </tr>\n",
       "  </tbody>\n",
       "</table>"
      ],
      "text/plain": [
       "<IPython.core.display.HTML object>"
      ]
     },
     "execution_count": 7,
     "metadata": {},
     "output_type": "execute_result"
    }
   ],
   "source": [
    "\n",
    "#######################################\n",
    "# Tu simulación que genere resultados #\n",
    "#######################################\n",
    "\n",
    "tus_resultados = [ \n",
    "                   ['', ''], # <-- acá debería haber numeritos :)\n",
    "                   ['', ''], # <-- acá debería haber numeritos :)\n",
    "                   ['', ''], # <-- acá debería haber numeritos :)\n",
    "                   ['', ''], # <-- acá debería haber numeritos :)\n",
    "                   ['', ''], # <-- acá debería haber numeritos :)\n",
    "                   ['', ''], # <-- acá debería haber numeritos :)\n",
    "                   ['', ''], # <-- acá debería haber numeritos :)\n",
    "                 ]\n",
    "df = DataFrame(tus_resultados, columns=['$s_W$', '$v_W$'],\n",
    "               index=N)\n",
    "HTML(df.to_html())\n"
   ]
  },
  {
   "cell_type": "markdown",
   "metadata": {},
   "source": [
    "<div class=\"alert alert-block alert-info\">\n",
    "<b>4)</b> Evalue el siguiente estimador de frecuencia de una senoidal contaminada por ruido incorrelado.\n",
    "\n",
    "</div>"
   ]
  },
  {
   "cell_type": "markdown",
   "metadata": {},
   "source": [
    "Para una señal $ x(k) = a_1 · \\mathop{sen}(\\Omega_1·k) + n(k)$\n",
    "\n",
    "siendo \n",
    "\n",
    "  $\\Omega_1 = \\Omega_0 + f_r·\\frac{2\\pi}{N} $\n",
    "\n",
    "  $\\Omega_0 = \\frac{\\pi}{2} $\n",
    "  \n",
    "y las variables aleatorias definidas por\n",
    "\n",
    "  $f_r \\sim \\mathcal{U}(-\\frac{1}{2}, \\, \\frac{1}{2}) $\n",
    "\n",
    "  $n \\sim \\mathcal{N}(0, \\, \\sigma ^2) $\n",
    "  \n",
    "Evalúe el siguiente estimador \n",
    "\n",
    "  $\\hat{\\Omega}_1 = \\mathop{arg\\ max}_f \\{ \\hat{P_P} \\} $\n",
    "\n",
    "  $\\hat{\\Omega}_2 = \\mathop{arg\\ max}_f \\{ \\hat{P_W} \\} $\n",
    "\n",
    "Para relaciones de SNR en el que el pico de la senoidal esté 3 y 10 db por encima del *piso* de ruido. Considere 200 realizaciones de 1000 muestras para cada experimento.\n"
   ]
  },
  {
   "cell_type": "code",
   "execution_count": 8,
   "metadata": {},
   "outputs": [],
   "source": [
    "# Simular para los siguientes tamaños de señal\n",
    "\n",
    "R = 200 # realizaciones\n",
    "\n",
    "N = 1000 # Muestras\n",
    "\n",
    "# Obtené los valores XX para que cumplas con el enunciado\n",
    "#SNR = np.array([ XX, XX ], dtype=np.float)\n",
    "\n",
    "##########################################\n",
    "# Acá podés generar los gráficos pedidos #\n",
    "##########################################\n"
   ]
  },
  {
   "cell_type": "markdown",
   "metadata": {},
   "source": [
    "   a) ¿Qué indicador considera que sería apropiado para poder comparar el rendimiento de ambos estimadores?\n"
   ]
  },
  {
   "cell_type": "markdown",
   "metadata": {},
   "source": [
    "<div class=\"alert alert-block alert-warning\">\n",
    "<b>Respuesta:</b> Escriba aquí su respuesta.\n",
    "</div>"
   ]
  },
  {
   "cell_type": "code",
   "execution_count": 9,
   "metadata": {
    "scrolled": false
   },
   "outputs": [
    {
     "data": {
      "text/html": [
       "<table border=\"1\" class=\"dataframe\">\n",
       "  <thead>\n",
       "    <tr style=\"text-align: right;\">\n",
       "      <th></th>\n",
       "      <th>$i_1$</th>\n",
       "      <th>$i_2$</th>\n",
       "    </tr>\n",
       "  </thead>\n",
       "  <tbody>\n",
       "    <tr>\n",
       "      <th>3 dB</th>\n",
       "      <td></td>\n",
       "      <td></td>\n",
       "    </tr>\n",
       "    <tr>\n",
       "      <th>10 dB</th>\n",
       "      <td></td>\n",
       "      <td></td>\n",
       "    </tr>\n",
       "  </tbody>\n",
       "</table>"
      ],
      "text/plain": [
       "<IPython.core.display.HTML object>"
      ]
     },
     "execution_count": 9,
     "metadata": {},
     "output_type": "execute_result"
    }
   ],
   "source": [
    "\n",
    "#######################################\n",
    "# Tu simulación que genere resultados #\n",
    "#######################################\n",
    "\n",
    "# Una vez definido tu indicador de performance\n",
    "tus_resultados = [ \n",
    "                   ['', ''], # <-- acá debería haber numeritos :)\n",
    "                   ['', ''] # <-- acá debería haber numeritos :)\n",
    "                 ]\n",
    "df = DataFrame(tus_resultados, columns=['$i_1$', '$i_2$'],\n",
    "               index=[  \n",
    "                        '3 dB',\n",
    "                        '10 dB'\n",
    "                     ])\n",
    "HTML(df.to_html())\n"
   ]
  }
 ],
 "metadata": {
  "kernelspec": {
   "display_name": "Python 3",
   "language": "python",
   "name": "python3"
  },
  "language_info": {
   "codemirror_mode": {
    "name": "ipython",
    "version": 3
   },
   "file_extension": ".py",
   "mimetype": "text/x-python",
   "name": "python",
   "nbconvert_exporter": "python",
   "pygments_lexer": "ipython3",
   "version": "3.7.0"
  }
 },
 "nbformat": 4,
 "nbformat_minor": 2
}
